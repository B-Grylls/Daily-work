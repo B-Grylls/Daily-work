{
 "cells": [
  {
   "cell_type": "markdown",
   "metadata": {},
   "source": [
    "# python常用库介绍"
   ]
  },
  {
   "cell_type": "markdown",
   "metadata": {},
   "source": [
    "## json\n",
    "- javascript object notation\n",
    "- str与dict的转换"
   ]
  },
  {
   "cell_type": "code",
   "execution_count": 9,
   "metadata": {},
   "outputs": [
    {
     "name": "stdout",
     "output_type": "stream",
     "text": [
      "{\n",
      "    \"name\":\"boss\",\n",
      "    \"salary\":\"5000\",\n",
      "    \"title\":\"CEO\",\n",
      "    \"manager\": null\n",
      "}\n"
     ]
    }
   ],
   "source": [
    "import json\n",
    "data = '''{\n",
    "    \"name\":\"boss\",\n",
    "    \"salary\":\"5000\",\n",
    "    \"title\":\"CEO\",\n",
    "    \"manager\": null\n",
    "}'''\n",
    "print(data)"
   ]
  },
  {
   "cell_type": "code",
   "execution_count": 10,
   "metadata": {},
   "outputs": [
    {
     "data": {
      "text/plain": [
       "str"
      ]
     },
     "execution_count": 10,
     "metadata": {},
     "output_type": "execute_result"
    }
   ],
   "source": [
    "type(data)"
   ]
  },
  {
   "cell_type": "code",
   "execution_count": 12,
   "metadata": {},
   "outputs": [
    {
     "data": {
      "text/plain": [
       "{'name': 'boss', 'salary': '5000', 'title': 'CEO', 'manager': None}"
      ]
     },
     "execution_count": 12,
     "metadata": {},
     "output_type": "execute_result"
    }
   ],
   "source": [
    "json_data = json.loads(data)\n",
    "json_data"
   ]
  },
  {
   "cell_type": "code",
   "execution_count": 13,
   "metadata": {},
   "outputs": [
    {
     "data": {
      "text/plain": [
       "dict"
      ]
     },
     "execution_count": 13,
     "metadata": {},
     "output_type": "execute_result"
    }
   ],
   "source": [
    "type(json_data)"
   ]
  },
  {
   "cell_type": "code",
   "execution_count": 14,
   "metadata": {},
   "outputs": [
    {
     "data": {
      "text/plain": [
       "'{\"name\": \"boss\", \"salary\": \"5000\", \"title\": \"CEO\", \"manager\": null}'"
      ]
     },
     "execution_count": 14,
     "metadata": {},
     "output_type": "execute_result"
    }
   ],
   "source": [
    "json.dumps(json_data)"
   ]
  },
  {
   "cell_type": "code",
   "execution_count": 15,
   "metadata": {},
   "outputs": [
    {
     "data": {
      "text/plain": [
       "str"
      ]
     },
     "execution_count": 15,
     "metadata": {},
     "output_type": "execute_result"
    }
   ],
   "source": [
    "type(json.dumps(json_data))"
   ]
  },
  {
   "cell_type": "code",
   "execution_count": 17,
   "metadata": {},
   "outputs": [],
   "source": [
    "json.dump(json_data , open(\"out.json\", \"w\")) # 将数据写入文件中"
   ]
  },
  {
   "cell_type": "code",
   "execution_count": 19,
   "metadata": {},
   "outputs": [],
   "source": [
    "json_data = 1"
   ]
  },
  {
   "cell_type": "code",
   "execution_count": 21,
   "metadata": {},
   "outputs": [],
   "source": [
    "json_data = json.load(open(\"out.json\", \"r\"))"
   ]
  },
  {
   "cell_type": "code",
   "execution_count": 22,
   "metadata": {},
   "outputs": [
    {
     "data": {
      "text/plain": [
       "{'name': 'boss', 'salary': '5000', 'title': 'CEO', 'manager': None}"
      ]
     },
     "execution_count": 22,
     "metadata": {},
     "output_type": "execute_result"
    }
   ],
   "source": [
    "json_data"
   ]
  },
  {
   "cell_type": "markdown",
   "metadata": {},
   "source": [
    "## counter"
   ]
  },
  {
   "cell_type": "code",
   "execution_count": 24,
   "metadata": {},
   "outputs": [],
   "source": [
    "from collections import Counter"
   ]
  },
  {
   "cell_type": "code",
   "execution_count": 30,
   "metadata": {},
   "outputs": [
    {
     "data": {
      "text/plain": [
       "Counter({'The': 4,\n",
       "         'novel': 3,\n",
       "         'is': 2,\n",
       "         'centered': 1,\n",
       "         'on': 2,\n",
       "         'portraying': 1,\n",
       "         'characters': 2,\n",
       "         'and': 13,\n",
       "         'reflects': 1,\n",
       "         'the': 12,\n",
       "         'literary': 2,\n",
       "         'genre': 1,\n",
       "         'of': 5,\n",
       "         'social': 2,\n",
       "         'life': 1,\n",
       "         'through': 1,\n",
       "         'complete': 1,\n",
       "         'storyline': 1,\n",
       "         'environmental': 1,\n",
       "         'description': 7,\n",
       "         'From': 1,\n",
       "         'Zhuangzi': 1,\n",
       "         'Foreign': 1,\n",
       "         'Objects': 1,\n",
       "         'Characte': 1,\n",
       "         'plot': 2,\n",
       "         'environment': 4,\n",
       "         'are': 1,\n",
       "         'three': 1,\n",
       "         'elements': 1,\n",
       "         'generally': 1,\n",
       "         'includes': 2,\n",
       "         'four': 2,\n",
       "         'parts': 1,\n",
       "         'beginning': 1,\n",
       "         'development': 1,\n",
       "         'climax': 1,\n",
       "         'ending': 1,\n",
       "         'some': 1,\n",
       "         'include': 1,\n",
       "         'prologue': 1,\n",
       "         'epilogue': 1,\n",
       "         'natural': 1,\n",
       "         'According': 4,\n",
       "         'to': 4,\n",
       "         'length': 1,\n",
       "         'capacity': 1,\n",
       "         'novels': 12,\n",
       "         'can': 4,\n",
       "         'be': 4,\n",
       "         'divided': 4,\n",
       "         'into': 4,\n",
       "         'short': 1,\n",
       "         'stories': 1,\n",
       "         'miniature': 1,\n",
       "         'small': 1,\n",
       "         'content': 1,\n",
       "         'performance': 1,\n",
       "         'myth': 1,\n",
       "         'fairy': 1,\n",
       "         'martial': 1,\n",
       "         'arts': 1,\n",
       "         'science': 1,\n",
       "         'fiction': 1,\n",
       "         'suspense': 1,\n",
       "         'ancient': 1,\n",
       "         'biography': 1,\n",
       "         'contemporary': 1,\n",
       "         'romantic': 1,\n",
       "         'youth': 1,\n",
       "         'game': 1,\n",
       "         'competition': 1,\n",
       "         'so': 1,\n",
       "         'system': 1,\n",
       "         'it': 2,\n",
       "         'chapter': 1,\n",
       "         'diary': 1,\n",
       "         'epistle': 1,\n",
       "         'autobiographical': 1,\n",
       "         'language': 2,\n",
       "         'form': 1,\n",
       "         'classical': 1,\n",
       "         'vernacular': 1,\n",
       "         'Novels': 1,\n",
       "         'poetry': 1,\n",
       "         'prose': 1,\n",
       "         'scrip': 1,\n",
       "         'also': 1,\n",
       "         'called': 1,\n",
       "         'major': 1,\n",
       "         'genres': 1,\n",
       "         \"novel's\": 1,\n",
       "         'psychological': 1,\n",
       "         'action': 1,\n",
       "         'appearance': 1,\n",
       "         'demeanor': 1,\n",
       "         'At': 1,\n",
       "         'same': 1,\n",
       "         'time': 1,\n",
       "         'a': 1,\n",
       "         'writing': 1,\n",
       "         'method': 1})"
      ]
     },
     "execution_count": 30,
     "metadata": {},
     "output_type": "execute_result"
    }
   ],
   "source": [
    "with open(\"text.txt\") as fin:\n",
    "    words = fin.read().strip().split()\n",
    "\n",
    "cnt = Counter(words)\n",
    "cnt"
   ]
  },
  {
   "cell_type": "code",
   "execution_count": 31,
   "metadata": {},
   "outputs": [
    {
     "data": {
      "text/plain": [
       "[('and', 13),\n",
       " ('the', 12),\n",
       " ('novels', 12),\n",
       " ('description', 7),\n",
       " ('of', 5),\n",
       " ('The', 4),\n",
       " ('environment', 4),\n",
       " ('According', 4),\n",
       " ('to', 4),\n",
       " ('can', 4)]"
      ]
     },
     "execution_count": 31,
     "metadata": {},
     "output_type": "execute_result"
    }
   ],
   "source": [
    "cnt.most_common(10)"
   ]
  },
  {
   "cell_type": "markdown",
   "metadata": {},
   "source": [
    "## pickle\n",
    "- 读写文件为python可以读懂的形式"
   ]
  },
  {
   "cell_type": "code",
   "execution_count": 34,
   "metadata": {},
   "outputs": [],
   "source": [
    "import pickle\n",
    "with open(\"data.pkl\",\"wb\") as fout:\n",
    "    pickle.dump([json_data ,cnt], fout)"
   ]
  },
  {
   "cell_type": "code",
   "execution_count": 35,
   "metadata": {},
   "outputs": [
    {
     "data": {
      "text/plain": [
       "[{'name': 'boss', 'salary': '5000', 'title': 'CEO', 'manager': None},\n",
       " Counter({'The': 4,\n",
       "          'novel': 3,\n",
       "          'is': 2,\n",
       "          'centered': 1,\n",
       "          'on': 2,\n",
       "          'portraying': 1,\n",
       "          'characters': 2,\n",
       "          'and': 13,\n",
       "          'reflects': 1,\n",
       "          'the': 12,\n",
       "          'literary': 2,\n",
       "          'genre': 1,\n",
       "          'of': 5,\n",
       "          'social': 2,\n",
       "          'life': 1,\n",
       "          'through': 1,\n",
       "          'complete': 1,\n",
       "          'storyline': 1,\n",
       "          'environmental': 1,\n",
       "          'description': 7,\n",
       "          'From': 1,\n",
       "          'Zhuangzi': 1,\n",
       "          'Foreign': 1,\n",
       "          'Objects': 1,\n",
       "          'Characte': 1,\n",
       "          'plot': 2,\n",
       "          'environment': 4,\n",
       "          'are': 1,\n",
       "          'three': 1,\n",
       "          'elements': 1,\n",
       "          'generally': 1,\n",
       "          'includes': 2,\n",
       "          'four': 2,\n",
       "          'parts': 1,\n",
       "          'beginning': 1,\n",
       "          'development': 1,\n",
       "          'climax': 1,\n",
       "          'ending': 1,\n",
       "          'some': 1,\n",
       "          'include': 1,\n",
       "          'prologue': 1,\n",
       "          'epilogue': 1,\n",
       "          'natural': 1,\n",
       "          'According': 4,\n",
       "          'to': 4,\n",
       "          'length': 1,\n",
       "          'capacity': 1,\n",
       "          'novels': 12,\n",
       "          'can': 4,\n",
       "          'be': 4,\n",
       "          'divided': 4,\n",
       "          'into': 4,\n",
       "          'short': 1,\n",
       "          'stories': 1,\n",
       "          'miniature': 1,\n",
       "          'small': 1,\n",
       "          'content': 1,\n",
       "          'performance': 1,\n",
       "          'myth': 1,\n",
       "          'fairy': 1,\n",
       "          'martial': 1,\n",
       "          'arts': 1,\n",
       "          'science': 1,\n",
       "          'fiction': 1,\n",
       "          'suspense': 1,\n",
       "          'ancient': 1,\n",
       "          'biography': 1,\n",
       "          'contemporary': 1,\n",
       "          'romantic': 1,\n",
       "          'youth': 1,\n",
       "          'game': 1,\n",
       "          'competition': 1,\n",
       "          'so': 1,\n",
       "          'system': 1,\n",
       "          'it': 2,\n",
       "          'chapter': 1,\n",
       "          'diary': 1,\n",
       "          'epistle': 1,\n",
       "          'autobiographical': 1,\n",
       "          'language': 2,\n",
       "          'form': 1,\n",
       "          'classical': 1,\n",
       "          'vernacular': 1,\n",
       "          'Novels': 1,\n",
       "          'poetry': 1,\n",
       "          'prose': 1,\n",
       "          'scrip': 1,\n",
       "          'also': 1,\n",
       "          'called': 1,\n",
       "          'major': 1,\n",
       "          'genres': 1,\n",
       "          \"novel's\": 1,\n",
       "          'psychological': 1,\n",
       "          'action': 1,\n",
       "          'appearance': 1,\n",
       "          'demeanor': 1,\n",
       "          'At': 1,\n",
       "          'same': 1,\n",
       "          'time': 1,\n",
       "          'a': 1,\n",
       "          'writing': 1,\n",
       "          'method': 1})]"
      ]
     },
     "execution_count": 35,
     "metadata": {},
     "output_type": "execute_result"
    }
   ],
   "source": [
    "pickle.load(open(\"data.pkl\",\"rb\"))"
   ]
  },
  {
   "cell_type": "markdown",
   "metadata": {},
   "source": [
    "## namedtuple\n",
    "- 本质上是tuple但是额外给其命名\n",
    "- 通常可以用来做简单的class"
   ]
  },
  {
   "cell_type": "code",
   "execution_count": 36,
   "metadata": {},
   "outputs": [],
   "source": [
    "from collections import namedtuple"
   ]
  },
  {
   "cell_type": "code",
   "execution_count": 37,
   "metadata": {},
   "outputs": [],
   "source": [
    "Point = namedtuple(\"Point\",[\"x\",\"y\"])\n",
    "p = Point(11, 22)"
   ]
  },
  {
   "cell_type": "code",
   "execution_count": 38,
   "metadata": {},
   "outputs": [
    {
     "data": {
      "text/plain": [
       "Point(x=11, y=22)"
      ]
     },
     "execution_count": 38,
     "metadata": {},
     "output_type": "execute_result"
    }
   ],
   "source": [
    "p"
   ]
  },
  {
   "cell_type": "code",
   "execution_count": 39,
   "metadata": {},
   "outputs": [
    {
     "data": {
      "text/plain": [
       "22"
      ]
     },
     "execution_count": 39,
     "metadata": {},
     "output_type": "execute_result"
    }
   ],
   "source": [
    "p.y"
   ]
  },
  {
   "cell_type": "markdown",
   "metadata": {},
   "source": [
    "## datetime\n",
    "- 处理日期和时间\n",
    "- 常用来看程序运行需要的时间"
   ]
  },
  {
   "cell_type": "code",
   "execution_count": 41,
   "metadata": {},
   "outputs": [],
   "source": [
    "from datetime import datetime"
   ]
  },
  {
   "cell_type": "code",
   "execution_count": 43,
   "metadata": {},
   "outputs": [
    {
     "data": {
      "text/plain": [
       "datetime.datetime(2020, 2, 24, 20, 41, 25, 104089)"
      ]
     },
     "execution_count": 43,
     "metadata": {},
     "output_type": "execute_result"
    }
   ],
   "source": [
    "start = datetime.now()\n",
    "start"
   ]
  },
  {
   "cell_type": "code",
   "execution_count": 44,
   "metadata": {},
   "outputs": [],
   "source": [
    "duration = datetime.now() - start"
   ]
  },
  {
   "cell_type": "code",
   "execution_count": 46,
   "metadata": {},
   "outputs": [
    {
     "data": {
      "text/plain": [
       "datetime.timedelta(seconds=17, microseconds=741287)"
      ]
     },
     "execution_count": 46,
     "metadata": {},
     "output_type": "execute_result"
    }
   ],
   "source": [
    "duration"
   ]
  },
  {
   "cell_type": "code",
   "execution_count": 47,
   "metadata": {},
   "outputs": [
    {
     "data": {
      "text/plain": [
       "'0:00:17.741287'"
      ]
     },
     "execution_count": 47,
     "metadata": {},
     "output_type": "execute_result"
    }
   ],
   "source": [
    "str(duration)"
   ]
  },
  {
   "cell_type": "code",
   "execution_count": 48,
   "metadata": {},
   "outputs": [
    {
     "data": {
      "text/plain": [
       "17.741287"
      ]
     },
     "execution_count": 48,
     "metadata": {},
     "output_type": "execute_result"
    }
   ],
   "source": [
    "duration.total_seconds()"
   ]
  },
  {
   "cell_type": "markdown",
   "metadata": {},
   "source": [
    "## Regular Expression\n",
    "- 帮助做string matching的操作"
   ]
  },
  {
   "cell_type": "code",
   "execution_count": 49,
   "metadata": {},
   "outputs": [],
   "source": [
    "import re"
   ]
  },
  {
   "cell_type": "code",
   "execution_count": 50,
   "metadata": {},
   "outputs": [],
   "source": [
    "txt = \"The rain in spain\""
   ]
  },
  {
   "cell_type": "code",
   "execution_count": 51,
   "metadata": {},
   "outputs": [
    {
     "data": {
      "text/plain": [
       "['ai', 'ai']"
      ]
     },
     "execution_count": 51,
     "metadata": {},
     "output_type": "execute_result"
    }
   ],
   "source": [
    "re.findall(\"ai\",txt)"
   ]
  },
  {
   "cell_type": "code",
   "execution_count": 52,
   "metadata": {},
   "outputs": [
    {
     "data": {
      "text/plain": [
       "[]"
      ]
     },
     "execution_count": 52,
     "metadata": {},
     "output_type": "execute_result"
    }
   ],
   "source": [
    "re.findall(\"ssssss\",txt)"
   ]
  },
  {
   "cell_type": "code",
   "execution_count": 56,
   "metadata": {},
   "outputs": [
    {
     "data": {
      "text/plain": [
       "['The', 'rain', 'in', 'spain']"
      ]
     },
     "execution_count": 56,
     "metadata": {},
     "output_type": "execute_result"
    }
   ],
   "source": [
    "re.split(\"\\s\",txt) #\\s表示任何空格"
   ]
  },
  {
   "cell_type": "code",
   "execution_count": 57,
   "metadata": {},
   "outputs": [
    {
     "data": {
      "text/plain": [
       "['The', 'rain in spain']"
      ]
     },
     "execution_count": 57,
     "metadata": {},
     "output_type": "execute_result"
    }
   ],
   "source": [
    "re.split(\"\\s\",txt,1)"
   ]
  },
  {
   "cell_type": "code",
   "execution_count": 70,
   "metadata": {},
   "outputs": [
    {
     "data": {
      "text/plain": [
       "re.Match"
      ]
     },
     "execution_count": 70,
     "metadata": {},
     "output_type": "execute_result"
    }
   ],
   "source": [
    "x = re.search(\"^T.*spain$\",txt)\n",
    "# ^T:以T开头 .表示匹配的任何字符 *表示任何字符出现若干次 $表示以Spain结尾\n",
    "x\n",
    "type(x)"
   ]
  },
  {
   "cell_type": "code",
   "execution_count": 71,
   "metadata": {},
   "outputs": [
    {
     "data": {
      "text/plain": [
       "<function Match.span(group=0, /)>"
      ]
     },
     "execution_count": 71,
     "metadata": {},
     "output_type": "execute_result"
    }
   ],
   "source": [
    "x.span"
   ]
  },
  {
   "cell_type": "code",
   "execution_count": 72,
   "metadata": {},
   "outputs": [
    {
     "data": {
      "text/plain": [
       "'The rain in spain'"
      ]
     },
     "execution_count": 72,
     "metadata": {},
     "output_type": "execute_result"
    }
   ],
   "source": [
    "x.string"
   ]
  },
  {
   "cell_type": "code",
   "execution_count": 73,
   "metadata": {
    "scrolled": true
   },
   "outputs": [
    {
     "data": {
      "text/plain": [
       "'The rain in spain'"
      ]
     },
     "execution_count": 73,
     "metadata": {},
     "output_type": "execute_result"
    }
   ],
   "source": [
    "x.group()"
   ]
  },
  {
   "cell_type": "markdown",
   "metadata": {},
   "source": [
    "# lambda表达式\n",
    "- 简单定义function\n",
    "- 可以返回一个function"
   ]
  },
  {
   "cell_type": "code",
   "execution_count": 1,
   "metadata": {},
   "outputs": [
    {
     "data": {
      "text/plain": [
       "5"
      ]
     },
     "execution_count": 1,
     "metadata": {},
     "output_type": "execute_result"
    }
   ],
   "source": [
    "add = lambda x, y: x+y\n",
    "add(2, 3)"
   ]
  },
  {
   "cell_type": "code",
   "execution_count": 2,
   "metadata": {},
   "outputs": [],
   "source": [
    "def add(n):\n",
    "    return lambda x:x + n"
   ]
  },
  {
   "cell_type": "code",
   "execution_count": 3,
   "metadata": {},
   "outputs": [
    {
     "data": {
      "text/plain": [
       "<function __main__.add.<locals>.<lambda>(x)>"
      ]
     },
     "execution_count": 3,
     "metadata": {},
     "output_type": "execute_result"
    }
   ],
   "source": [
    "add(3)"
   ]
  },
  {
   "cell_type": "code",
   "execution_count": 4,
   "metadata": {},
   "outputs": [
    {
     "data": {
      "text/plain": [
       "8"
      ]
     },
     "execution_count": 4,
     "metadata": {},
     "output_type": "execute_result"
    }
   ],
   "source": [
    "add_3 = add(3)\n",
    "add_3(5)"
   ]
  },
  {
   "cell_type": "code",
   "execution_count": 5,
   "metadata": {},
   "outputs": [
    {
     "data": {
      "text/plain": [
       "8"
      ]
     },
     "execution_count": 5,
     "metadata": {},
     "output_type": "execute_result"
    }
   ],
   "source": [
    "add(3)(5)"
   ]
  },
  {
   "cell_type": "markdown",
   "metadata": {},
   "source": [
    "# argparse\n",
    "- 具体写在run.py"
   ]
  },
  {
   "cell_type": "code",
   "execution_count": 79,
   "metadata": {},
   "outputs": [
    {
     "ename": "NameError",
     "evalue": "name 'args' is not defined",
     "output_type": "error",
     "traceback": [
      "\u001b[1;31m---------------------------------------------------------------------------\u001b[0m",
      "\u001b[1;31mNameError\u001b[0m                                 Traceback (most recent call last)",
      "\u001b[1;32m<ipython-input-79-2219d56d345a>\u001b[0m in \u001b[0;36m<module>\u001b[1;34m\u001b[0m\n\u001b[0;32m     21\u001b[0m \u001b[1;33m\u001b[0m\u001b[0m\n\u001b[0;32m     22\u001b[0m \u001b[1;32mif\u001b[0m \u001b[0m__name__\u001b[0m \u001b[1;33m==\u001b[0m \u001b[1;34m\"__main__\"\u001b[0m\u001b[1;33m:\u001b[0m\u001b[1;33m\u001b[0m\u001b[1;33m\u001b[0m\u001b[0m\n\u001b[1;32m---> 23\u001b[1;33m     \u001b[1;32mif\u001b[0m \u001b[0margs\u001b[0m\u001b[1;33m.\u001b[0m\u001b[0mtask\u001b[0m \u001b[1;33m==\u001b[0m \u001b[1;34m\"factorial\"\u001b[0m\u001b[1;33m:\u001b[0m\u001b[1;33m\u001b[0m\u001b[1;33m\u001b[0m\u001b[0m\n\u001b[0m\u001b[0;32m     24\u001b[0m         \u001b[0mprint\u001b[0m\u001b[1;33m(\u001b[0m\u001b[1;34m\"factorial({})={}\"\u001b[0m\u001b[1;33m.\u001b[0m\u001b[0mformat\u001b[0m\u001b[1;33m(\u001b[0m\u001b[0margs\u001b[0m\u001b[1;33m.\u001b[0m\u001b[0mn\u001b[0m\u001b[1;33m,\u001b[0m \u001b[0mfactorial\u001b[0m\u001b[1;33m(\u001b[0m\u001b[0margs\u001b[0m\u001b[1;33m.\u001b[0m\u001b[0mn\u001b[0m\u001b[1;33m)\u001b[0m\u001b[1;33m)\u001b[0m\u001b[1;33m)\u001b[0m\u001b[1;33m\u001b[0m\u001b[1;33m\u001b[0m\u001b[0m\n\u001b[0;32m     25\u001b[0m     \u001b[1;32melif\u001b[0m \u001b[0margs\u001b[0m\u001b[1;33m.\u001b[0m\u001b[0mtask\u001b[0m \u001b[1;33m==\u001b[0m \u001b[1;34m\"fabonacci\"\u001b[0m\u001b[1;33m:\u001b[0m\u001b[1;33m\u001b[0m\u001b[1;33m\u001b[0m\u001b[0m\n",
      "\u001b[1;31mNameError\u001b[0m: name 'args' is not defined"
     ]
    }
   ],
   "source": [
    "import argparse\n",
    "\n",
    "parser = argparse.ArgumentParser(\n",
    "    description=\"factorial or fibonacci\")\n",
    "\n",
    "parser.add_argument(\"--task\", type=str, choices=[\"factorial\",\"fabonacci\"],\n",
    "                   default=\"fibonacci\",help=\"which task to perform\")\n",
    "parser.add_argument(\"--n\", type=int, default=0, help=\"the function argument n\")\n",
    "\n",
    "args = parser.parse_args()\n",
    "\n",
    "def factorial(n):\n",
    "    if n in [0,1]:\n",
    "        return n\n",
    "    else:\n",
    "        return n*factorial(n-1)\n",
    "\n",
    "def fabonacci(n):\n",
    "    fibs=[0,1]\n",
    "    for i in range(n-1):\n",
    "        fibs.append(fibs[-1] + fibs[-2])\n",
    "    return fibs[n]\n",
    "\n",
    "if __name__ == \"__main__\":\n",
    "    if args.task == \"factorial\":\n",
    "        print(\"factorial({})={}\".format(args.n, factorial(args.n)))\n",
    "    elif args.task == \"fabonacci\":\n",
    "        print(\"fabonacci({})={}\".format(args.n, fabonacci(args.n)))\n",
    "        "
   ]
  },
  {
   "cell_type": "code",
   "execution_count": 1,
   "metadata": {},
   "outputs": [
    {
     "ename": "SyntaxError",
     "evalue": "invalid syntax (<ipython-input-1-ece8b01d00cf>, line 1)",
     "output_type": "error",
     "traceback": [
      "\u001b[1;36m  File \u001b[1;32m\"<ipython-input-1-ece8b01d00cf>\"\u001b[1;36m, line \u001b[1;32m1\u001b[0m\n\u001b[1;33m    (myenv) D:\\work>python run.py\u001b[0m\n\u001b[1;37m            ^\u001b[0m\n\u001b[1;31mSyntaxError\u001b[0m\u001b[1;31m:\u001b[0m invalid syntax\n"
     ]
    }
   ],
   "source": [
    "(myenv) D:\\work>python run.py\n",
    "fibonacci(0) = 0\n",
    "\n",
    "(myenv) D:\\work>python run.py -h\n",
    "usage: run.py [-h] [--task {factorial,fibonacci}] [--n N]\n",
    "\n",
    "factorial or fibonacci\n",
    "\n",
    "optional arguments:\n",
    "  -h, --help            show this help message and exit\n",
    "  --task {factorial,fibonacci}\n",
    "                        which task to perform\n",
    "  --n N                 the function argument n\n",
    "\n",
    "(myenv) D:\\work>python run.py --task factorial --n 10\n",
    "factorial(10) = 3628800\n",
    "\n",
    "(myenv) D:\\work>python run.py --task fibonacci --n 20\n",
    "fibonacci(20) = 6765"
   ]
  },
  {
   "cell_type": "code",
   "execution_count": null,
   "metadata": {},
   "outputs": [],
   "source": []
  }
 ],
 "metadata": {
  "kernelspec": {
   "display_name": "Python 3",
   "language": "python",
   "name": "python3"
  },
  "language_info": {
   "codemirror_mode": {
    "name": "ipython",
    "version": 3
   },
   "file_extension": ".py",
   "mimetype": "text/x-python",
   "name": "python",
   "nbconvert_exporter": "python",
   "pygments_lexer": "ipython3",
   "version": "3.7.6"
  }
 },
 "nbformat": 4,
 "nbformat_minor": 4
}
