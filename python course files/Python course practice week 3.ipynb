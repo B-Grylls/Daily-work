{
 "cells": [
  {
   "cell_type": "markdown",
   "metadata": {},
   "source": [
    "##  recursion"
   ]
  },
  {
   "cell_type": "markdown",
   "metadata": {},
   "source": [
    "dynamic programming"
   ]
  },
  {
   "cell_type": "code",
   "execution_count": 4,
   "metadata": {
    "scrolled": true
   },
   "outputs": [
    {
     "data": {
      "text/plain": [
       "[0, 1, 1, 2, 3, 5, 8, 13, 21, 34]"
      ]
     },
     "execution_count": 4,
     "metadata": {},
     "output_type": "execute_result"
    }
   ],
   "source": [
    "def fib(n):\n",
    "    fibs = [0 , 1]\n",
    "    if n < 2:\n",
    "        return fibs[:n]\n",
    "    for i in range(n-2):\n",
    "        fibs.append(fibs[-1] + fibs[-2])\n",
    "    return fibs\n",
    "\n",
    "fib(10)"
   ]
  },
  {
   "cell_type": "markdown",
   "metadata": {},
   "source": [
    "recursion\n",
    "- 效率低，在不需要反复计算的方面有较好使用"
   ]
  },
  {
   "cell_type": "code",
   "execution_count": 7,
   "metadata": {},
   "outputs": [
    {
     "data": {
      "text/plain": [
       "55"
      ]
     },
     "execution_count": 7,
     "metadata": {},
     "output_type": "execute_result"
    }
   ],
   "source": [
    "def fibx(n):\n",
    "    # return the nth element in fibonacci series\n",
    "    if n < 0: # base case\n",
    "        return 0\n",
    "    elif n in [0,1]: # base case\n",
    "        return n\n",
    "    return fibx(n-1) + fibx(n-2)\n",
    "fibx(10)"
   ]
  },
  {
   "cell_type": "code",
   "execution_count": 9,
   "metadata": {},
   "outputs": [
    {
     "data": {
      "text/plain": [
       "479001600"
      ]
     },
     "execution_count": 9,
     "metadata": {},
     "output_type": "execute_result"
    }
   ],
   "source": [
    "def factorial(n): # n!\n",
    "    if n in [0, 1]:\n",
    "        return n\n",
    "    return n* factorial(n-1)\n",
    "\n",
    "factorial(12)"
   ]
  },
  {
   "cell_type": "code",
   "execution_count": 10,
   "metadata": {},
   "outputs": [
    {
     "data": {
      "text/plain": [
       "7"
      ]
     },
     "execution_count": 10,
     "metadata": {},
     "output_type": "execute_result"
    }
   ],
   "source": [
    "def gcd(p, q): # 最大公约数\n",
    "    if q == 0:\n",
    "        return p\n",
    "    return gcd(q , p % q)\n",
    "\n",
    "gcd(35,14)"
   ]
  },
  {
   "cell_type": "markdown",
   "metadata": {},
   "source": [
    "递归排序算法\n",
    "- 把一个list分为两部分排序\n",
    "- 最后整合"
   ]
  },
  {
   "cell_type": "code",
   "execution_count": 67,
   "metadata": {},
   "outputs": [
    {
     "data": {
      "text/plain": [
       "[-6, 0, 2, 2, 9, 12]"
      ]
     },
     "execution_count": 67,
     "metadata": {},
     "output_type": "execute_result"
    }
   ],
   "source": [
    "def sort(arr):\n",
    "    l=len(arr)\n",
    "    if l <= 1:\n",
    "        return arr\n",
    "    else:\n",
    "        leftarr=sort(arr[:l//2])\n",
    "        rightarr=sort(arr[l//2:])\n",
    "        lleft=len(leftarr)\n",
    "        lright=len(rightarr)\n",
    "        newarr = []\n",
    "        i = j = 0\n",
    "        while i < lleft and j < lright :\n",
    "            if leftarr[i] <= rightarr[j]:\n",
    "                newarr.append(leftarr[i])\n",
    "                i += 1\n",
    "            else:\n",
    "                newarr.append(rightarr[j])\n",
    "                j += 1\n",
    "        if i>= lleft: # left arr is empty\n",
    "            newarr += rightarr[j:]\n",
    "        elif j>= lright: # right arr is empty\n",
    "            newarr += leftarr[i:]\n",
    "    return newarr\n",
    "\n",
    "sort([12,0,2,2,-6,9])\n",
    "\n",
    "            \n",
    "    \n",
    "    "
   ]
  },
  {
   "cell_type": "code",
   "execution_count": null,
   "metadata": {},
   "outputs": [],
   "source": [
    "def sort(arr):\n",
    "    length=len(arr)\n",
    "    if length <= 1:\n",
    "        return arr\n",
    "    leftarr=sort(arr[:length//2])\n",
    "    rightarr=sort(arr[length//2:])\n",
    "    newarr = []\n",
    "    lengthleft=len(leftarr)\n",
    "    lengthright=len(rightarr)\n",
    "    i = j = 0\n",
    "    while i < lengthleft or j < lengthright:\n",
    "        if i >= lengthleft:\n",
    "            newarr += rightarr[j:]\n",
    "            j=len(rightarr)\n",
    "        elif j >= lengthright:\n",
    "            newarr += leftarr[i:]\n",
    "            i=len(leftarr)\n",
    "        else:\n",
    "            if leftarr[i] < rightarr[j]:\n",
    "                newarr.append(leftarr[i])\n",
    "                i += 1\n",
    "            else:\n",
    "                newarr.append(rightarr[j])\n",
    "                j += 1\n",
    "    return newarr\n",
    "\n",
    "sort([12,0,2,2,-6,9])"
   ]
  },
  {
   "cell_type": "markdown",
   "metadata": {},
   "source": [
    "## Object oriented programming  面向对象编程OOP\n",
    "- class定义了一个类型\n",
    "- object某一个特定的class的一个实例"
   ]
  },
  {
   "cell_type": "code",
   "execution_count": 1,
   "metadata": {},
   "outputs": [],
   "source": [
    "class Employee:\n",
    "    def __init__(self):\n",
    "        pass\n",
    "\n",
    "e = Employee()"
   ]
  },
  {
   "cell_type": "code",
   "execution_count": 2,
   "metadata": {},
   "outputs": [
    {
     "data": {
      "text/plain": [
       "<__main__.Employee at 0x2212b9b4888>"
      ]
     },
     "execution_count": 2,
     "metadata": {},
     "output_type": "execute_result"
    }
   ],
   "source": [
    "e"
   ]
  },
  {
   "cell_type": "code",
   "execution_count": 3,
   "metadata": {},
   "outputs": [
    {
     "data": {
      "text/plain": [
       "__main__.Employee"
      ]
     },
     "execution_count": 3,
     "metadata": {},
     "output_type": "execute_result"
    }
   ],
   "source": [
    "type(e)"
   ]
  },
  {
   "cell_type": "code",
   "execution_count": 4,
   "metadata": {},
   "outputs": [
    {
     "data": {
      "text/plain": [
       "['__class__',\n",
       " '__delattr__',\n",
       " '__dict__',\n",
       " '__dir__',\n",
       " '__doc__',\n",
       " '__eq__',\n",
       " '__format__',\n",
       " '__ge__',\n",
       " '__getattribute__',\n",
       " '__gt__',\n",
       " '__hash__',\n",
       " '__init__',\n",
       " '__init_subclass__',\n",
       " '__le__',\n",
       " '__lt__',\n",
       " '__module__',\n",
       " '__ne__',\n",
       " '__new__',\n",
       " '__reduce__',\n",
       " '__reduce_ex__',\n",
       " '__repr__',\n",
       " '__setattr__',\n",
       " '__sizeof__',\n",
       " '__str__',\n",
       " '__subclasshook__',\n",
       " '__weakref__']"
      ]
     },
     "execution_count": 4,
     "metadata": {},
     "output_type": "execute_result"
    }
   ],
   "source": [
    "dir(e)"
   ]
  },
  {
   "cell_type": "code",
   "execution_count": 5,
   "metadata": {},
   "outputs": [
    {
     "name": "stdout",
     "output_type": "stream",
     "text": [
      "(Employee name:Boss,title:CEO,salary:90000,manager: )\n"
     ]
    }
   ],
   "source": [
    "class Employee:\n",
    "    def __init__(self, name, ID, title, salary, manager=None):\n",
    "        self.name = name\n",
    "        self.ID = ID\n",
    "        self.title = title\n",
    "        self.salary = salary\n",
    "        self.manager = manager\n",
    "    \n",
    "    def get_info(self): # 每一个大括号自动填入后面format对应位置信息\n",
    "        return \"(Employee name:{},title:{},salary:{},manager:{})\".format(\\\n",
    "                self.name ,self.title ,self.salary ,self.manager.get_info()\\\n",
    "                if self.manager is not None else \" \")\n",
    "    def __eq__(self, other):\n",
    "        return self.ID == other.ID\n",
    "\n",
    "boss = Employee(\"Boss\" ,1 ,\"CEO\" ,90000)\n",
    "print(boss.get_info())\n"
   ]
  },
  {
   "cell_type": "code",
   "execution_count": 7,
   "metadata": {
    "scrolled": true
   },
   "outputs": [
    {
     "name": "stdout",
     "output_type": "stream",
     "text": [
      "(Employee name:QZB,title:student,salary:500,manager:(Employee name:Boss,title:CEO,salary:90000,manager: ))\n"
     ]
    }
   ],
   "source": [
    "qzb = Employee(name = \"QZB\" ,ID = 2 ,title = \"student\" \n",
    "               ,salary = 500 ,manager = boss)\n",
    "print(qzb.get_info())"
   ]
  },
  {
   "cell_type": "code",
   "execution_count": 8,
   "metadata": {
    "scrolled": true
   },
   "outputs": [
    {
     "data": {
      "text/plain": [
       "['ID',\n",
       " '__class__',\n",
       " '__delattr__',\n",
       " '__dict__',\n",
       " '__dir__',\n",
       " '__doc__',\n",
       " '__eq__',\n",
       " '__format__',\n",
       " '__ge__',\n",
       " '__getattribute__',\n",
       " '__gt__',\n",
       " '__hash__',\n",
       " '__init__',\n",
       " '__init_subclass__',\n",
       " '__le__',\n",
       " '__lt__',\n",
       " '__module__',\n",
       " '__ne__',\n",
       " '__new__',\n",
       " '__reduce__',\n",
       " '__reduce_ex__',\n",
       " '__repr__',\n",
       " '__setattr__',\n",
       " '__sizeof__',\n",
       " '__str__',\n",
       " '__subclasshook__',\n",
       " '__weakref__',\n",
       " 'get_info',\n",
       " 'manager',\n",
       " 'name',\n",
       " 'salary',\n",
       " 'title']"
      ]
     },
     "execution_count": 8,
     "metadata": {},
     "output_type": "execute_result"
    }
   ],
   "source": [
    "dir(qzb) # 查看这个object的class内容"
   ]
  },
  {
   "cell_type": "code",
   "execution_count": 9,
   "metadata": {},
   "outputs": [
    {
     "data": {
      "text/plain": [
       "<bound method Employee.get_info of <__main__.Employee object at 0x000002212B9D77C8>>"
      ]
     },
     "execution_count": 9,
     "metadata": {},
     "output_type": "execute_result"
    }
   ],
   "source": [
    "qzb.get_info # 查看get_info 发现是一个method"
   ]
  },
  {
   "cell_type": "code",
   "execution_count": 10,
   "metadata": {
    "scrolled": true
   },
   "outputs": [
    {
     "data": {
      "text/plain": [
       "500"
      ]
     },
     "execution_count": 10,
     "metadata": {},
     "output_type": "execute_result"
    }
   ],
   "source": [
    "qzb.salary"
   ]
  },
  {
   "cell_type": "code",
   "execution_count": 11,
   "metadata": {},
   "outputs": [
    {
     "data": {
      "text/plain": [
       "'Company:facebook,employees: (Employee name:Boss,title:CEO,salary:90000,manager: ) (Employee name:QZB,title:student,salary:500,manager:(Employee name:Boss,title:CEO,salary:90000,manager: )) '"
      ]
     },
     "execution_count": 11,
     "metadata": {},
     "output_type": "execute_result"
    }
   ],
   "source": [
    "class Company:\n",
    "    def __init__(self, name, employees =[]):\n",
    "        self.name = name\n",
    "        self.employees = employees\n",
    "    \n",
    "    def hire(self, employee):\n",
    "        if not employee in self.employees:\n",
    "            self.employees.append(employee)\n",
    "    \n",
    "    def fire(self, employee):\n",
    "        if employee in self.employees:\n",
    "            self.employees.remove(employee)\n",
    "    \n",
    "    def get_info(self):\n",
    "        res = \"Company:{},employees: \".format(self.name)\n",
    "        for emp in self.employees:\n",
    "            res += \"{} \".format(emp.get_info()) \n",
    "            #每一个emp都是employee类型的object,用的是employee中定义的get_info\n",
    "        return res\n",
    "    \n",
    "c = Company(\"facebook\",[boss , qzb])\n",
    "c.get_info()"
   ]
  },
  {
   "cell_type": "code",
   "execution_count": 12,
   "metadata": {},
   "outputs": [],
   "source": [
    "nick = Employee(\"Nick\", 3 ,\"teacher\",6000,boss)"
   ]
  },
  {
   "cell_type": "code",
   "execution_count": 13,
   "metadata": {},
   "outputs": [
    {
     "data": {
      "text/plain": [
       "'Company:facebook,employees: (Employee name:Boss,title:CEO,salary:90000,manager: ) (Employee name:QZB,title:student,salary:500,manager:(Employee name:Boss,title:CEO,salary:90000,manager: )) (Employee name:Nick,title:teacher,salary:6000,manager:(Employee name:Boss,title:CEO,salary:90000,manager: )) '"
      ]
     },
     "execution_count": 13,
     "metadata": {},
     "output_type": "execute_result"
    }
   ],
   "source": [
    "c.hire(nick)\n",
    "c.get_info()"
   ]
  },
  {
   "cell_type": "code",
   "execution_count": 14,
   "metadata": {},
   "outputs": [
    {
     "data": {
      "text/plain": [
       "'Company:facebook,employees: (Employee name:Boss,title:CEO,salary:90000,manager: ) (Employee name:Nick,title:teacher,salary:6000,manager:(Employee name:Boss,title:CEO,salary:90000,manager: )) '"
      ]
     },
     "execution_count": 14,
     "metadata": {},
     "output_type": "execute_result"
    }
   ],
   "source": [
    "c.fire(qzb)\n",
    "c.get_info()"
   ]
  },
  {
   "cell_type": "markdown",
   "metadata": {},
   "source": [
    "# subclass"
   ]
  },
  {
   "cell_type": "code",
   "execution_count": 16,
   "metadata": {},
   "outputs": [],
   "source": [
    "class Person: # base class父类\n",
    "    def __init__(self, name, ID):\n",
    "        self.name = name\n",
    "        self.ID = ID\n",
    "    \n",
    "    def get_info(self):\n",
    "        return \"name:{}\".format(self.name)\n",
    "    \n",
    "    def __eq__(self, other):\n",
    "        return self.ID == other.ID"
   ]
  },
  {
   "cell_type": "code",
   "execution_count": 17,
   "metadata": {},
   "outputs": [],
   "source": [
    "class Employee(Person): #定义的是父类base class:Person的子类subclass:Employee\n",
    "    def __init__(self, name, ID, title, salary, manager=None):\n",
    "        super().__init__(name,ID)#用super函数继承name ID并初始化\n",
    "        self.title = title\n",
    "        self.salary = salary\n",
    "        self.manager = manager\n",
    "    \n",
    "    def get_info(self):\n",
    "        return \"(Employee name:{},title:{},salary:{},manager:{})\".format(\\\n",
    "                self.name ,self.title ,self.salary ,self.manager.get_info()\\\n",
    "                if self.manager is not None else \" \")\n",
    "    "
   ]
  },
  {
   "cell_type": "code",
   "execution_count": 22,
   "metadata": {},
   "outputs": [],
   "source": [
    "class Student(Person): #定义的是父类base class:Person的子类subclass:Student\n",
    "    def __init__(self,name,ID,year=0):\n",
    "        super().__init__(name,ID)\n",
    "        self.year = year\n",
    "        \n",
    "    def get_info(self): #用super函数继承name ID并写入父类的method\n",
    "        return \"{}, year:{}\".format(super().get_info(), self.year)\n",
    "    "
   ]
  },
  {
   "cell_type": "code",
   "execution_count": 19,
   "metadata": {
    "scrolled": true
   },
   "outputs": [
    {
     "name": "stdout",
     "output_type": "stream",
     "text": [
      "(Employee name:Boss,title:CEO,salary:90000,manager: )\n"
     ]
    }
   ],
   "source": [
    "boss = Employee(\"Boss\" ,1 ,\"CEO\" ,90000)\n",
    "print(boss.get_info())"
   ]
  },
  {
   "cell_type": "code",
   "execution_count": 20,
   "metadata": {
    "scrolled": true
   },
   "outputs": [
    {
     "name": "stdout",
     "output_type": "stream",
     "text": [
      "(Employee name:QZB,title:student,salary:500,manager:(Employee name:Boss,title:CEO,salary:90000,manager: ))\n"
     ]
    }
   ],
   "source": [
    "qzb = Employee(name = \"QZB\" ,ID = 2 ,title = \"student\" \n",
    "               ,salary = 500 ,manager = boss)\n",
    "print(qzb.get_info())"
   ]
  },
  {
   "cell_type": "code",
   "execution_count": 23,
   "metadata": {},
   "outputs": [
    {
     "data": {
      "text/plain": [
       "'name:Jack, year:3'"
      ]
     },
     "execution_count": 23,
     "metadata": {},
     "output_type": "execute_result"
    }
   ],
   "source": [
    "s1 = Student(\"Jack\", ID = 5 ,year =3)\n",
    "s1.get_info()"
   ]
  },
  {
   "cell_type": "markdown",
   "metadata": {},
   "source": [
    "### Binary Search Tree\n",
    "- 也是一种插入排序法\n",
    "- 有结点val以及左右child\n",
    "- left child比val小,right child比val大"
   ]
  },
  {
   "cell_type": "code",
   "execution_count": 24,
   "metadata": {},
   "outputs": [],
   "source": [
    "class Node:\n",
    "    def __init__(self, val):\n",
    "        self.v = val   #是节点所含的值\n",
    "        self.l = None  #是左节点\n",
    "        self.r = None\n",
    "\n",
    "class Tree:\n",
    "    def __init__(self):\n",
    "        self.root = None\n",
    "        \n",
    "    def add(self, val):\n",
    "        if self.root is None:\n",
    "            self.root = Node(val)\n",
    "        else:\n",
    "            self._add(val, self.root)\n",
    "            \n",
    "    def _add(self, val, node):\n",
    "        #将新加入的value与当前节点node对比,小就向左边树搜,大就向右边树搜\n",
    "        if val < node.v:\n",
    "            if node.l is not None:\n",
    "                self._add(val, node.l)\n",
    "            else:\n",
    "                node.l = Node(val)\n",
    "        elif val > node.v:\n",
    "            if node.r is not None:\n",
    "                self._add(val, node.r)\n",
    "            else:\n",
    "                node.r = Node(val)\n",
    "        else:\n",
    "            print( \"node:{} is already in the tree\".format(val))\n",
    "    \n",
    "    def printTree(self):\n",
    "        if self.root is not None:\n",
    "            self._printTree(self.root)\n",
    "        else:\n",
    "            print(\"Empty Tree\")\n",
    "    \n",
    "    def _printTree(self, node):\n",
    "        if node is not None:\n",
    "            self._printTree(node.l)\n",
    "            print(str(node.v) + ' ')\n",
    "            self._printTree(node.r)\n",
    "        "
   ]
  },
  {
   "cell_type": "code",
   "execution_count": 25,
   "metadata": {},
   "outputs": [
    {
     "name": "stdout",
     "output_type": "stream",
     "text": [
      "Empty Tree\n"
     ]
    }
   ],
   "source": [
    "tree = Tree()\n",
    "tree.printTree()"
   ]
  },
  {
   "cell_type": "code",
   "execution_count": 26,
   "metadata": {},
   "outputs": [
    {
     "name": "stdout",
     "output_type": "stream",
     "text": [
      "node:3 is already in the tree\n",
      "3 \n",
      "5 \n",
      "7 \n",
      "8 \n",
      "11 \n",
      "80 \n"
     ]
    }
   ],
   "source": [
    "tree.add(3)\n",
    "tree.add(5)\n",
    "tree.add(11)\n",
    "tree.add(80)\n",
    "tree.add(8)\n",
    "tree.add(3)\n",
    "tree.add(7)\n",
    "tree.printTree()"
   ]
  },
  {
   "cell_type": "markdown",
   "metadata": {},
   "source": [
    "### Iterator"
   ]
  },
  {
   "cell_type": "code",
   "execution_count": 1,
   "metadata": {},
   "outputs": [
    {
     "name": "stdout",
     "output_type": "stream",
     "text": [
      "0\n",
      "1\n",
      "2\n",
      "3\n",
      "4\n"
     ]
    }
   ],
   "source": [
    "for i in range(5):\n",
    "    print(i)"
   ]
  },
  {
   "cell_type": "code",
   "execution_count": 2,
   "metadata": {},
   "outputs": [],
   "source": [
    "r = iter(range(5))"
   ]
  },
  {
   "cell_type": "code",
   "execution_count": 6,
   "metadata": {},
   "outputs": [
    {
     "data": {
      "text/plain": [
       "3"
      ]
     },
     "execution_count": 6,
     "metadata": {},
     "output_type": "execute_result"
    }
   ],
   "source": [
    " next(r) # 迭代器的特点"
   ]
  },
  {
   "cell_type": "markdown",
   "metadata": {},
   "source": [
    "创建一个literable class"
   ]
  },
  {
   "cell_type": "code",
   "execution_count": 7,
   "metadata": {},
   "outputs": [],
   "source": [
    "class myrange:\n",
    "    def __init__(self,n):\n",
    "        self.i = 0\n",
    "        self.n = n\n",
    "        \n",
    "    def __iter__(self):\n",
    "        return self\n",
    "    \n",
    "    def __next__(self):\n",
    "        if self.i < self.n:\n",
    "            i = self.i\n",
    "            self.i += 1\n",
    "            return i\n",
    "        else:\n",
    "            raise StopIteration\n",
    "            "
   ]
  },
  {
   "cell_type": "code",
   "execution_count": 8,
   "metadata": {},
   "outputs": [
    {
     "name": "stdout",
     "output_type": "stream",
     "text": [
      "0\n",
      "1\n",
      "2\n",
      "3\n",
      "4\n",
      "5\n",
      "6\n",
      "7\n",
      "8\n",
      "9\n"
     ]
    }
   ],
   "source": [
    "for i in myrange(10):\n",
    "    print(i)"
   ]
  },
  {
   "cell_type": "code",
   "execution_count": 13,
   "metadata": {},
   "outputs": [],
   "source": [
    "rr=myrange(10)"
   ]
  },
  {
   "cell_type": "code",
   "execution_count": 22,
   "metadata": {},
   "outputs": [
    {
     "data": {
      "text/plain": [
       "8"
      ]
     },
     "execution_count": 22,
     "metadata": {},
     "output_type": "execute_result"
    }
   ],
   "source": [
    "next(rr)"
   ]
  },
  {
   "cell_type": "markdown",
   "metadata": {},
   "source": [
    "### Gerator\n",
    "- 特殊的Iterator"
   ]
  },
  {
   "cell_type": "code",
   "execution_count": 23,
   "metadata": {},
   "outputs": [
    {
     "name": "stdout",
     "output_type": "stream",
     "text": [
      "0\n",
      "1\n",
      "2\n",
      "3\n",
      "4\n"
     ]
    }
   ],
   "source": [
    "def anotherrange(n):\n",
    "    i = 0\n",
    "    while i < n:\n",
    "        yield(i) # yield相当于return却不结束，继续运算并不断返回值\n",
    "        i += 1\n",
    "\n",
    "for i in anotherrange(5):\n",
    "    print(i)"
   ]
  },
  {
   "cell_type": "code",
   "execution_count": 24,
   "metadata": {},
   "outputs": [],
   "source": [
    "r = anotherrange(5)"
   ]
  },
  {
   "cell_type": "code",
   "execution_count": 30,
   "metadata": {},
   "outputs": [
    {
     "ename": "StopIteration",
     "evalue": "",
     "output_type": "error",
     "traceback": [
      "\u001b[1;31m---------------------------------------------------------------------------\u001b[0m",
      "\u001b[1;31mStopIteration\u001b[0m                             Traceback (most recent call last)",
      "\u001b[1;32m<ipython-input-30-8ebe59a56b1d>\u001b[0m in \u001b[0;36m<module>\u001b[1;34m\u001b[0m\n\u001b[1;32m----> 1\u001b[1;33m \u001b[0mnext\u001b[0m\u001b[1;33m(\u001b[0m\u001b[0mr\u001b[0m\u001b[1;33m)\u001b[0m\u001b[1;33m\u001b[0m\u001b[1;33m\u001b[0m\u001b[0m\n\u001b[0m",
      "\u001b[1;31mStopIteration\u001b[0m: "
     ]
    }
   ],
   "source": [
    "next(r)"
   ]
  },
  {
   "cell_type": "code",
   "execution_count": 31,
   "metadata": {},
   "outputs": [],
   "source": [
    "names = [\"Researchera\",\"python\",\"numpy\",\"pandas\"]"
   ]
  },
  {
   "cell_type": "code",
   "execution_count": 32,
   "metadata": {},
   "outputs": [],
   "source": [
    "idx = list(range(len(names)))"
   ]
  },
  {
   "cell_type": "code",
   "execution_count": 33,
   "metadata": {},
   "outputs": [
    {
     "data": {
      "text/plain": [
       "[0, 1, 2, 3]"
      ]
     },
     "execution_count": 33,
     "metadata": {},
     "output_type": "execute_result"
    }
   ],
   "source": [
    "idx"
   ]
  },
  {
   "cell_type": "code",
   "execution_count": 34,
   "metadata": {},
   "outputs": [
    {
     "data": {
      "text/plain": [
       "[(0, 'Researchera'), (1, 'python'), (2, 'numpy'), (3, 'pandas')]"
      ]
     },
     "execution_count": 34,
     "metadata": {},
     "output_type": "execute_result"
    }
   ],
   "source": [
    "list(zip(idx ,names))"
   ]
  },
  {
   "cell_type": "code",
   "execution_count": 35,
   "metadata": {},
   "outputs": [],
   "source": [
    "idx1=[1,2,3,4]"
   ]
  },
  {
   "cell_type": "code",
   "execution_count": 37,
   "metadata": {},
   "outputs": [
    {
     "data": {
      "text/plain": [
       "[(0, 1, 'Researchera'), (1, 2, 'python'), (2, 3, 'numpy'), (3, 4, 'pandas')]"
      ]
     },
     "execution_count": 37,
     "metadata": {},
     "output_type": "execute_result"
    }
   ],
   "source": [
    "list(zip(idx, idx1 ,names ))"
   ]
  },
  {
   "cell_type": "code",
   "execution_count": null,
   "metadata": {},
   "outputs": [],
   "source": []
  }
 ],
 "metadata": {
  "kernelspec": {
   "display_name": "Python 3",
   "language": "python",
   "name": "python3"
  },
  "language_info": {
   "codemirror_mode": {
    "name": "ipython",
    "version": 3
   },
   "file_extension": ".py",
   "mimetype": "text/x-python",
   "name": "python",
   "nbconvert_exporter": "python",
   "pygments_lexer": "ipython3",
   "version": "3.7.6"
  }
 },
 "nbformat": 4,
 "nbformat_minor": 2
}
